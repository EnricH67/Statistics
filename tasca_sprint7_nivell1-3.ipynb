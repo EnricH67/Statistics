{
 "cells": [
  {
   "cell_type": "markdown",
   "metadata": {},
   "source": [
    "# TASCA DADES, PROBABILITATS I ESTADÍSTIQUES\n",
    "\n",
    "## NIVELL1\n",
    "\n",
    "### *Exercici 1*\n",
    "\n",
    "Agafa un conjunt de dades de tema esportiu que t'agradi. Calcula la moda, la mediana, la desviació estàndard i la mitjana aritmètica. "
   ]
  },
  {
   "cell_type": "code",
   "execution_count": 1,
   "metadata": {},
   "outputs": [],
   "source": [
    "%matplotlib inline\n",
    "import numpy as np\n",
    "import pandas as pd\n",
    "import matplotlib.pyplot as plt\n",
    "import seaborn as sns\n",
    "import matlab as mat\n",
    "import random"
   ]
  },
  {
   "cell_type": "code",
   "execution_count": 2,
   "metadata": {},
   "outputs": [],
   "source": [
    "from matlab import random\n",
    "from random import randint"
   ]
  },
  {
   "cell_type": "markdown",
   "metadata": {},
   "source": [
    "+ *Agafo la mateixa que ja conec de l'exercici anterior*"
   ]
  },
  {
   "cell_type": "code",
   "execution_count": 3,
   "metadata": {},
   "outputs": [
    {
     "data": {
      "text/html": [
       "<div>\n",
       "<style scoped>\n",
       "    .dataframe tbody tr th:only-of-type {\n",
       "        vertical-align: middle;\n",
       "    }\n",
       "\n",
       "    .dataframe tbody tr th {\n",
       "        vertical-align: top;\n",
       "    }\n",
       "\n",
       "    .dataframe thead th {\n",
       "        text-align: right;\n",
       "    }\n",
       "</style>\n",
       "<table border=\"1\" class=\"dataframe\">\n",
       "  <thead>\n",
       "    <tr style=\"text-align: right;\">\n",
       "      <th></th>\n",
       "      <th>match_id</th>\n",
       "      <th>round</th>\n",
       "      <th>date</th>\n",
       "      <th>avg_minutes_game</th>\n",
       "      <th>avg_seconds_point</th>\n",
       "      <th>avg_minutes_set</th>\n",
       "      <th>tournament</th>\n",
       "      <th>year</th>\n",
       "      <th>match_minutes</th>\n",
       "    </tr>\n",
       "  </thead>\n",
       "  <tbody>\n",
       "    <tr>\n",
       "      <th>0</th>\n",
       "      <td>m_2019_A_0</td>\n",
       "      <td>1st Round</td>\n",
       "      <td>2019-01-14</td>\n",
       "      <td>4.81</td>\n",
       "      <td>46.8</td>\n",
       "      <td>43.3</td>\n",
       "      <td>Australian Open</td>\n",
       "      <td>2019</td>\n",
       "      <td>173.0</td>\n",
       "    </tr>\n",
       "    <tr>\n",
       "      <th>1</th>\n",
       "      <td>m_2019_A_1</td>\n",
       "      <td>1st Round</td>\n",
       "      <td>2019-01-14</td>\n",
       "      <td>3.95</td>\n",
       "      <td>35.7</td>\n",
       "      <td>40.5</td>\n",
       "      <td>Australian Open</td>\n",
       "      <td>2019</td>\n",
       "      <td>162.0</td>\n",
       "    </tr>\n",
       "    <tr>\n",
       "      <th>2</th>\n",
       "      <td>m_2019_A_2</td>\n",
       "      <td>1st Round</td>\n",
       "      <td>2019-01-14</td>\n",
       "      <td>4.86</td>\n",
       "      <td>42.3</td>\n",
       "      <td>43.8</td>\n",
       "      <td>Australian Open</td>\n",
       "      <td>2019</td>\n",
       "      <td>175.0</td>\n",
       "    </tr>\n",
       "    <tr>\n",
       "      <th>3</th>\n",
       "      <td>m_2019_A_3</td>\n",
       "      <td>1st Round</td>\n",
       "      <td>2019-01-14</td>\n",
       "      <td>4.43</td>\n",
       "      <td>43.3</td>\n",
       "      <td>41.0</td>\n",
       "      <td>Australian Open</td>\n",
       "      <td>2019</td>\n",
       "      <td>164.0</td>\n",
       "    </tr>\n",
       "    <tr>\n",
       "      <th>4</th>\n",
       "      <td>m_2019_A_4</td>\n",
       "      <td>1st Round</td>\n",
       "      <td>2019-01-14</td>\n",
       "      <td>4.37</td>\n",
       "      <td>39.7</td>\n",
       "      <td>43.7</td>\n",
       "      <td>Australian Open</td>\n",
       "      <td>2019</td>\n",
       "      <td>131.0</td>\n",
       "    </tr>\n",
       "    <tr>\n",
       "      <th>...</th>\n",
       "      <td>...</td>\n",
       "      <td>...</td>\n",
       "      <td>...</td>\n",
       "      <td>...</td>\n",
       "      <td>...</td>\n",
       "      <td>...</td>\n",
       "      <td>...</td>\n",
       "      <td>...</td>\n",
       "      <td>...</td>\n",
       "    </tr>\n",
       "    <tr>\n",
       "      <th>10155</th>\n",
       "      <td>m_2000_W_122</td>\n",
       "      <td>Quarterfinals</td>\n",
       "      <td>2000-06-26</td>\n",
       "      <td>3.95</td>\n",
       "      <td>37.3</td>\n",
       "      <td>41.5</td>\n",
       "      <td>Wimbledon</td>\n",
       "      <td>2000</td>\n",
       "      <td>166.0</td>\n",
       "    </tr>\n",
       "    <tr>\n",
       "      <th>10156</th>\n",
       "      <td>m_2000_W_123</td>\n",
       "      <td>Quarterfinals</td>\n",
       "      <td>2000-06-26</td>\n",
       "      <td>4.26</td>\n",
       "      <td>39.0</td>\n",
       "      <td>48.3</td>\n",
       "      <td>Wimbledon</td>\n",
       "      <td>2000</td>\n",
       "      <td>145.0</td>\n",
       "    </tr>\n",
       "    <tr>\n",
       "      <th>10157</th>\n",
       "      <td>m_2000_W_124</td>\n",
       "      <td>Semifinals</td>\n",
       "      <td>2000-06-26</td>\n",
       "      <td>3.74</td>\n",
       "      <td>37.2</td>\n",
       "      <td>39.6</td>\n",
       "      <td>Wimbledon</td>\n",
       "      <td>2000</td>\n",
       "      <td>198.0</td>\n",
       "    </tr>\n",
       "    <tr>\n",
       "      <th>10158</th>\n",
       "      <td>m_2000_W_125</td>\n",
       "      <td>Semifinals</td>\n",
       "      <td>2000-06-26</td>\n",
       "      <td>3.30</td>\n",
       "      <td>34.7</td>\n",
       "      <td>33.0</td>\n",
       "      <td>Wimbledon</td>\n",
       "      <td>2000</td>\n",
       "      <td>99.0</td>\n",
       "    </tr>\n",
       "    <tr>\n",
       "      <th>10159</th>\n",
       "      <td>m_2000_W_126</td>\n",
       "      <td>The Final</td>\n",
       "      <td>2000-06-26</td>\n",
       "      <td>4.24</td>\n",
       "      <td>35.7</td>\n",
       "      <td>44.5</td>\n",
       "      <td>Wimbledon</td>\n",
       "      <td>2000</td>\n",
       "      <td>178.0</td>\n",
       "    </tr>\n",
       "  </tbody>\n",
       "</table>\n",
       "<p>10160 rows × 9 columns</p>\n",
       "</div>"
      ],
      "text/plain": [
       "           match_id          round        date  avg_minutes_game  \\\n",
       "0        m_2019_A_0      1st Round  2019-01-14              4.81   \n",
       "1        m_2019_A_1      1st Round  2019-01-14              3.95   \n",
       "2        m_2019_A_2      1st Round  2019-01-14              4.86   \n",
       "3        m_2019_A_3      1st Round  2019-01-14              4.43   \n",
       "4        m_2019_A_4      1st Round  2019-01-14              4.37   \n",
       "...             ...            ...         ...               ...   \n",
       "10155  m_2000_W_122  Quarterfinals  2000-06-26              3.95   \n",
       "10156  m_2000_W_123  Quarterfinals  2000-06-26              4.26   \n",
       "10157  m_2000_W_124     Semifinals  2000-06-26              3.74   \n",
       "10158  m_2000_W_125     Semifinals  2000-06-26              3.30   \n",
       "10159  m_2000_W_126      The Final  2000-06-26              4.24   \n",
       "\n",
       "       avg_seconds_point  avg_minutes_set       tournament  year  \\\n",
       "0                   46.8             43.3  Australian Open  2019   \n",
       "1                   35.7             40.5  Australian Open  2019   \n",
       "2                   42.3             43.8  Australian Open  2019   \n",
       "3                   43.3             41.0  Australian Open  2019   \n",
       "4                   39.7             43.7  Australian Open  2019   \n",
       "...                  ...              ...              ...   ...   \n",
       "10155               37.3             41.5        Wimbledon  2000   \n",
       "10156               39.0             48.3        Wimbledon  2000   \n",
       "10157               37.2             39.6        Wimbledon  2000   \n",
       "10158               34.7             33.0        Wimbledon  2000   \n",
       "10159               35.7             44.5        Wimbledon  2000   \n",
       "\n",
       "       match_minutes  \n",
       "0              173.0  \n",
       "1              162.0  \n",
       "2              175.0  \n",
       "3              164.0  \n",
       "4              131.0  \n",
       "...              ...  \n",
       "10155          166.0  \n",
       "10156          145.0  \n",
       "10157          198.0  \n",
       "10158           99.0  \n",
       "10159          178.0  \n",
       "\n",
       "[10160 rows x 9 columns]"
      ]
     },
     "execution_count": 3,
     "metadata": {},
     "output_type": "execute_result"
    }
   ],
   "source": [
    "tenis_df = pd.read_csv('Match.csv')\n",
    "tenis_df"
   ]
  },
  {
   "cell_type": "code",
   "execution_count": 4,
   "metadata": {},
   "outputs": [
    {
     "data": {
      "text/plain": [
       "count    10078.000000\n",
       "mean        39.223477\n",
       "std         10.129553\n",
       "min          0.000000\n",
       "25%         34.400000\n",
       "50%         39.300000\n",
       "75%         44.700000\n",
       "max        133.000000\n",
       "Name: avg_minutes_set, dtype: float64"
      ]
     },
     "execution_count": 4,
     "metadata": {},
     "output_type": "execute_result"
    }
   ],
   "source": [
    "tenis_df['avg_minutes_set'].describe()"
   ]
  },
  {
   "cell_type": "code",
   "execution_count": 5,
   "metadata": {},
   "outputs": [
    {
     "data": {
      "text/plain": [
       "39.223476880332335"
      ]
     },
     "execution_count": 5,
     "metadata": {},
     "output_type": "execute_result"
    }
   ],
   "source": [
    "tenis_df['avg_minutes_set'].mean()"
   ]
  },
  {
   "cell_type": "code",
   "execution_count": 6,
   "metadata": {},
   "outputs": [
    {
     "data": {
      "text/plain": [
       "39.3"
      ]
     },
     "execution_count": 6,
     "metadata": {},
     "output_type": "execute_result"
    }
   ],
   "source": [
    "tenis_df['avg_minutes_set'].median()"
   ]
  },
  {
   "cell_type": "code",
   "execution_count": 7,
   "metadata": {},
   "outputs": [
    {
     "data": {
      "text/plain": [
       "10.129553007766674"
      ]
     },
     "execution_count": 7,
     "metadata": {},
     "output_type": "execute_result"
    }
   ],
   "source": [
    "tenis_df['avg_minutes_set'].std()"
   ]
  },
  {
   "cell_type": "code",
   "execution_count": 8,
   "metadata": {
    "scrolled": false
   },
   "outputs": [
    {
     "data": {
      "text/plain": [
       "0    0.0\n",
       "dtype: float64"
      ]
     },
     "execution_count": 8,
     "metadata": {},
     "output_type": "execute_result"
    }
   ],
   "source": [
    "tenis_df['avg_minutes_set'].mode()"
   ]
  },
  {
   "cell_type": "markdown",
   "metadata": {},
   "source": [
    "+ *Resulta extrany que el valor més frequent de la columna 'avg_minutes_set' sigui \"O\"*\n",
    "\n",
    "   *I ho comprovo amb un \"value_counts()\"* "
   ]
  },
  {
   "cell_type": "code",
   "execution_count": 9,
   "metadata": {},
   "outputs": [
    {
     "data": {
      "text/plain": [
       "0.0      255\n",
       "38.0     165\n",
       "41.0     163\n",
       "37.0     160\n",
       "40.0     146\n",
       "        ... \n",
       "78.6       1\n",
       "65.8       1\n",
       "73.3       1\n",
       "133.0      1\n",
       "66.2       1\n",
       "Name: avg_minutes_set, Length: 364, dtype: int64"
      ]
     },
     "execution_count": 9,
     "metadata": {},
     "output_type": "execute_result"
    }
   ],
   "source": [
    "tenis_df['avg_minutes_set'].value_counts()"
   ]
  },
  {
   "cell_type": "markdown",
   "metadata": {},
   "source": [
    "+ *Faig una ullada a les files que tenen el valor 0 a la columna de 'avg_minutes_set' i vec que totes les columnes \n",
    "   amb valor numèric també són 0*\n",
    "   \n",
    "   *Aquest partits són segur aquells on un dels jugadors no s'hi ha presentat (per lesió en l'anterior partit)*"
   ]
  },
  {
   "cell_type": "code",
   "execution_count": 10,
   "metadata": {},
   "outputs": [
    {
     "data": {
      "text/html": [
       "<div>\n",
       "<style scoped>\n",
       "    .dataframe tbody tr th:only-of-type {\n",
       "        vertical-align: middle;\n",
       "    }\n",
       "\n",
       "    .dataframe tbody tr th {\n",
       "        vertical-align: top;\n",
       "    }\n",
       "\n",
       "    .dataframe thead th {\n",
       "        text-align: right;\n",
       "    }\n",
       "</style>\n",
       "<table border=\"1\" class=\"dataframe\">\n",
       "  <thead>\n",
       "    <tr style=\"text-align: right;\">\n",
       "      <th></th>\n",
       "      <th>match_id</th>\n",
       "      <th>round</th>\n",
       "      <th>date</th>\n",
       "      <th>avg_minutes_game</th>\n",
       "      <th>avg_seconds_point</th>\n",
       "      <th>avg_minutes_set</th>\n",
       "      <th>tournament</th>\n",
       "      <th>year</th>\n",
       "      <th>match_minutes</th>\n",
       "    </tr>\n",
       "  </thead>\n",
       "  <tbody>\n",
       "    <tr>\n",
       "      <th>5167</th>\n",
       "      <td>m_2019_U_87</td>\n",
       "      <td>2nd Round</td>\n",
       "      <td>2019-08-29</td>\n",
       "      <td>0.0</td>\n",
       "      <td>0.0</td>\n",
       "      <td>0.0</td>\n",
       "      <td>US Open</td>\n",
       "      <td>2019</td>\n",
       "      <td>0.0</td>\n",
       "    </tr>\n",
       "    <tr>\n",
       "      <th>5588</th>\n",
       "      <td>m_2015_U_0</td>\n",
       "      <td>1st Round</td>\n",
       "      <td>2015-08-31</td>\n",
       "      <td>0.0</td>\n",
       "      <td>0.0</td>\n",
       "      <td>0.0</td>\n",
       "      <td>US Open</td>\n",
       "      <td>2015</td>\n",
       "      <td>0.0</td>\n",
       "    </tr>\n",
       "    <tr>\n",
       "      <th>5589</th>\n",
       "      <td>m_2015_U_1</td>\n",
       "      <td>1st Round</td>\n",
       "      <td>2015-08-31</td>\n",
       "      <td>0.0</td>\n",
       "      <td>0.0</td>\n",
       "      <td>0.0</td>\n",
       "      <td>US Open</td>\n",
       "      <td>2015</td>\n",
       "      <td>0.0</td>\n",
       "    </tr>\n",
       "    <tr>\n",
       "      <th>5590</th>\n",
       "      <td>m_2015_U_2</td>\n",
       "      <td>1st Round</td>\n",
       "      <td>2015-08-31</td>\n",
       "      <td>0.0</td>\n",
       "      <td>0.0</td>\n",
       "      <td>0.0</td>\n",
       "      <td>US Open</td>\n",
       "      <td>2015</td>\n",
       "      <td>0.0</td>\n",
       "    </tr>\n",
       "    <tr>\n",
       "      <th>5591</th>\n",
       "      <td>m_2015_U_3</td>\n",
       "      <td>1st Round</td>\n",
       "      <td>2015-08-31</td>\n",
       "      <td>0.0</td>\n",
       "      <td>0.0</td>\n",
       "      <td>0.0</td>\n",
       "      <td>US Open</td>\n",
       "      <td>2015</td>\n",
       "      <td>0.0</td>\n",
       "    </tr>\n",
       "    <tr>\n",
       "      <th>...</th>\n",
       "      <td>...</td>\n",
       "      <td>...</td>\n",
       "      <td>...</td>\n",
       "      <td>...</td>\n",
       "      <td>...</td>\n",
       "      <td>...</td>\n",
       "      <td>...</td>\n",
       "      <td>...</td>\n",
       "      <td>...</td>\n",
       "    </tr>\n",
       "    <tr>\n",
       "      <th>8250</th>\n",
       "      <td>m_2015_W_122</td>\n",
       "      <td>Quarterfinals</td>\n",
       "      <td>2015-08-07</td>\n",
       "      <td>0.0</td>\n",
       "      <td>0.0</td>\n",
       "      <td>0.0</td>\n",
       "      <td>Wimbledon</td>\n",
       "      <td>2015</td>\n",
       "      <td>0.0</td>\n",
       "    </tr>\n",
       "    <tr>\n",
       "      <th>8251</th>\n",
       "      <td>m_2015_W_123</td>\n",
       "      <td>Quarterfinals</td>\n",
       "      <td>2015-08-07</td>\n",
       "      <td>0.0</td>\n",
       "      <td>0.0</td>\n",
       "      <td>0.0</td>\n",
       "      <td>Wimbledon</td>\n",
       "      <td>2015</td>\n",
       "      <td>0.0</td>\n",
       "    </tr>\n",
       "    <tr>\n",
       "      <th>8252</th>\n",
       "      <td>m_2015_W_124</td>\n",
       "      <td>Semifinals</td>\n",
       "      <td>2015-10-07</td>\n",
       "      <td>0.0</td>\n",
       "      <td>0.0</td>\n",
       "      <td>0.0</td>\n",
       "      <td>Wimbledon</td>\n",
       "      <td>2015</td>\n",
       "      <td>0.0</td>\n",
       "    </tr>\n",
       "    <tr>\n",
       "      <th>8253</th>\n",
       "      <td>m_2015_W_125</td>\n",
       "      <td>Semifinals</td>\n",
       "      <td>2015-10-07</td>\n",
       "      <td>0.0</td>\n",
       "      <td>0.0</td>\n",
       "      <td>0.0</td>\n",
       "      <td>Wimbledon</td>\n",
       "      <td>2015</td>\n",
       "      <td>0.0</td>\n",
       "    </tr>\n",
       "    <tr>\n",
       "      <th>8254</th>\n",
       "      <td>m_2015_W_126</td>\n",
       "      <td>The Final</td>\n",
       "      <td>2015-12-07</td>\n",
       "      <td>0.0</td>\n",
       "      <td>0.0</td>\n",
       "      <td>0.0</td>\n",
       "      <td>Wimbledon</td>\n",
       "      <td>2015</td>\n",
       "      <td>0.0</td>\n",
       "    </tr>\n",
       "  </tbody>\n",
       "</table>\n",
       "<p>255 rows × 9 columns</p>\n",
       "</div>"
      ],
      "text/plain": [
       "          match_id          round        date  avg_minutes_game  \\\n",
       "5167   m_2019_U_87      2nd Round  2019-08-29               0.0   \n",
       "5588    m_2015_U_0      1st Round  2015-08-31               0.0   \n",
       "5589    m_2015_U_1      1st Round  2015-08-31               0.0   \n",
       "5590    m_2015_U_2      1st Round  2015-08-31               0.0   \n",
       "5591    m_2015_U_3      1st Round  2015-08-31               0.0   \n",
       "...            ...            ...         ...               ...   \n",
       "8250  m_2015_W_122  Quarterfinals  2015-08-07               0.0   \n",
       "8251  m_2015_W_123  Quarterfinals  2015-08-07               0.0   \n",
       "8252  m_2015_W_124     Semifinals  2015-10-07               0.0   \n",
       "8253  m_2015_W_125     Semifinals  2015-10-07               0.0   \n",
       "8254  m_2015_W_126      The Final  2015-12-07               0.0   \n",
       "\n",
       "      avg_seconds_point  avg_minutes_set tournament  year  match_minutes  \n",
       "5167                0.0              0.0    US Open  2019            0.0  \n",
       "5588                0.0              0.0    US Open  2015            0.0  \n",
       "5589                0.0              0.0    US Open  2015            0.0  \n",
       "5590                0.0              0.0    US Open  2015            0.0  \n",
       "5591                0.0              0.0    US Open  2015            0.0  \n",
       "...                 ...              ...        ...   ...            ...  \n",
       "8250                0.0              0.0  Wimbledon  2015            0.0  \n",
       "8251                0.0              0.0  Wimbledon  2015            0.0  \n",
       "8252                0.0              0.0  Wimbledon  2015            0.0  \n",
       "8253                0.0              0.0  Wimbledon  2015            0.0  \n",
       "8254                0.0              0.0  Wimbledon  2015            0.0  \n",
       "\n",
       "[255 rows x 9 columns]"
      ]
     },
     "execution_count": 10,
     "metadata": {},
     "output_type": "execute_result"
    }
   ],
   "source": [
    "tenis_set0_df = tenis_df[tenis_df['avg_minutes_set'] == 0]\n",
    "tenis_set0_df"
   ]
  },
  {
   "cell_type": "markdown",
   "metadata": {},
   "source": [
    "  *Per tant faré un sub data frame on elimino les files que contenen el valor 0 per poder fer millor estadística*"
   ]
  },
  {
   "cell_type": "code",
   "execution_count": 11,
   "metadata": {},
   "outputs": [
    {
     "data": {
      "text/html": [
       "<div>\n",
       "<style scoped>\n",
       "    .dataframe tbody tr th:only-of-type {\n",
       "        vertical-align: middle;\n",
       "    }\n",
       "\n",
       "    .dataframe tbody tr th {\n",
       "        vertical-align: top;\n",
       "    }\n",
       "\n",
       "    .dataframe thead th {\n",
       "        text-align: right;\n",
       "    }\n",
       "</style>\n",
       "<table border=\"1\" class=\"dataframe\">\n",
       "  <thead>\n",
       "    <tr style=\"text-align: right;\">\n",
       "      <th></th>\n",
       "      <th>match_id</th>\n",
       "      <th>round</th>\n",
       "      <th>date</th>\n",
       "      <th>avg_minutes_game</th>\n",
       "      <th>avg_seconds_point</th>\n",
       "      <th>avg_minutes_set</th>\n",
       "      <th>tournament</th>\n",
       "      <th>year</th>\n",
       "      <th>match_minutes</th>\n",
       "    </tr>\n",
       "  </thead>\n",
       "  <tbody>\n",
       "    <tr>\n",
       "      <th>0</th>\n",
       "      <td>m_2019_A_0</td>\n",
       "      <td>1st Round</td>\n",
       "      <td>2019-01-14</td>\n",
       "      <td>4.81</td>\n",
       "      <td>46.8</td>\n",
       "      <td>43.3</td>\n",
       "      <td>Australian Open</td>\n",
       "      <td>2019</td>\n",
       "      <td>173.0</td>\n",
       "    </tr>\n",
       "    <tr>\n",
       "      <th>1</th>\n",
       "      <td>m_2019_A_1</td>\n",
       "      <td>1st Round</td>\n",
       "      <td>2019-01-14</td>\n",
       "      <td>3.95</td>\n",
       "      <td>35.7</td>\n",
       "      <td>40.5</td>\n",
       "      <td>Australian Open</td>\n",
       "      <td>2019</td>\n",
       "      <td>162.0</td>\n",
       "    </tr>\n",
       "    <tr>\n",
       "      <th>2</th>\n",
       "      <td>m_2019_A_2</td>\n",
       "      <td>1st Round</td>\n",
       "      <td>2019-01-14</td>\n",
       "      <td>4.86</td>\n",
       "      <td>42.3</td>\n",
       "      <td>43.8</td>\n",
       "      <td>Australian Open</td>\n",
       "      <td>2019</td>\n",
       "      <td>175.0</td>\n",
       "    </tr>\n",
       "    <tr>\n",
       "      <th>3</th>\n",
       "      <td>m_2019_A_3</td>\n",
       "      <td>1st Round</td>\n",
       "      <td>2019-01-14</td>\n",
       "      <td>4.43</td>\n",
       "      <td>43.3</td>\n",
       "      <td>41.0</td>\n",
       "      <td>Australian Open</td>\n",
       "      <td>2019</td>\n",
       "      <td>164.0</td>\n",
       "    </tr>\n",
       "    <tr>\n",
       "      <th>4</th>\n",
       "      <td>m_2019_A_4</td>\n",
       "      <td>1st Round</td>\n",
       "      <td>2019-01-14</td>\n",
       "      <td>4.37</td>\n",
       "      <td>39.7</td>\n",
       "      <td>43.7</td>\n",
       "      <td>Australian Open</td>\n",
       "      <td>2019</td>\n",
       "      <td>131.0</td>\n",
       "    </tr>\n",
       "    <tr>\n",
       "      <th>...</th>\n",
       "      <td>...</td>\n",
       "      <td>...</td>\n",
       "      <td>...</td>\n",
       "      <td>...</td>\n",
       "      <td>...</td>\n",
       "      <td>...</td>\n",
       "      <td>...</td>\n",
       "      <td>...</td>\n",
       "      <td>...</td>\n",
       "    </tr>\n",
       "    <tr>\n",
       "      <th>10155</th>\n",
       "      <td>m_2000_W_122</td>\n",
       "      <td>Quarterfinals</td>\n",
       "      <td>2000-06-26</td>\n",
       "      <td>3.95</td>\n",
       "      <td>37.3</td>\n",
       "      <td>41.5</td>\n",
       "      <td>Wimbledon</td>\n",
       "      <td>2000</td>\n",
       "      <td>166.0</td>\n",
       "    </tr>\n",
       "    <tr>\n",
       "      <th>10156</th>\n",
       "      <td>m_2000_W_123</td>\n",
       "      <td>Quarterfinals</td>\n",
       "      <td>2000-06-26</td>\n",
       "      <td>4.26</td>\n",
       "      <td>39.0</td>\n",
       "      <td>48.3</td>\n",
       "      <td>Wimbledon</td>\n",
       "      <td>2000</td>\n",
       "      <td>145.0</td>\n",
       "    </tr>\n",
       "    <tr>\n",
       "      <th>10157</th>\n",
       "      <td>m_2000_W_124</td>\n",
       "      <td>Semifinals</td>\n",
       "      <td>2000-06-26</td>\n",
       "      <td>3.74</td>\n",
       "      <td>37.2</td>\n",
       "      <td>39.6</td>\n",
       "      <td>Wimbledon</td>\n",
       "      <td>2000</td>\n",
       "      <td>198.0</td>\n",
       "    </tr>\n",
       "    <tr>\n",
       "      <th>10158</th>\n",
       "      <td>m_2000_W_125</td>\n",
       "      <td>Semifinals</td>\n",
       "      <td>2000-06-26</td>\n",
       "      <td>3.30</td>\n",
       "      <td>34.7</td>\n",
       "      <td>33.0</td>\n",
       "      <td>Wimbledon</td>\n",
       "      <td>2000</td>\n",
       "      <td>99.0</td>\n",
       "    </tr>\n",
       "    <tr>\n",
       "      <th>10159</th>\n",
       "      <td>m_2000_W_126</td>\n",
       "      <td>The Final</td>\n",
       "      <td>2000-06-26</td>\n",
       "      <td>4.24</td>\n",
       "      <td>35.7</td>\n",
       "      <td>44.5</td>\n",
       "      <td>Wimbledon</td>\n",
       "      <td>2000</td>\n",
       "      <td>178.0</td>\n",
       "    </tr>\n",
       "  </tbody>\n",
       "</table>\n",
       "<p>9905 rows × 9 columns</p>\n",
       "</div>"
      ],
      "text/plain": [
       "           match_id          round        date  avg_minutes_game  \\\n",
       "0        m_2019_A_0      1st Round  2019-01-14              4.81   \n",
       "1        m_2019_A_1      1st Round  2019-01-14              3.95   \n",
       "2        m_2019_A_2      1st Round  2019-01-14              4.86   \n",
       "3        m_2019_A_3      1st Round  2019-01-14              4.43   \n",
       "4        m_2019_A_4      1st Round  2019-01-14              4.37   \n",
       "...             ...            ...         ...               ...   \n",
       "10155  m_2000_W_122  Quarterfinals  2000-06-26              3.95   \n",
       "10156  m_2000_W_123  Quarterfinals  2000-06-26              4.26   \n",
       "10157  m_2000_W_124     Semifinals  2000-06-26              3.74   \n",
       "10158  m_2000_W_125     Semifinals  2000-06-26              3.30   \n",
       "10159  m_2000_W_126      The Final  2000-06-26              4.24   \n",
       "\n",
       "       avg_seconds_point  avg_minutes_set       tournament  year  \\\n",
       "0                   46.8             43.3  Australian Open  2019   \n",
       "1                   35.7             40.5  Australian Open  2019   \n",
       "2                   42.3             43.8  Australian Open  2019   \n",
       "3                   43.3             41.0  Australian Open  2019   \n",
       "4                   39.7             43.7  Australian Open  2019   \n",
       "...                  ...              ...              ...   ...   \n",
       "10155               37.3             41.5        Wimbledon  2000   \n",
       "10156               39.0             48.3        Wimbledon  2000   \n",
       "10157               37.2             39.6        Wimbledon  2000   \n",
       "10158               34.7             33.0        Wimbledon  2000   \n",
       "10159               35.7             44.5        Wimbledon  2000   \n",
       "\n",
       "       match_minutes  \n",
       "0              173.0  \n",
       "1              162.0  \n",
       "2              175.0  \n",
       "3              164.0  \n",
       "4              131.0  \n",
       "...              ...  \n",
       "10155          166.0  \n",
       "10156          145.0  \n",
       "10157          198.0  \n",
       "10158           99.0  \n",
       "10159          178.0  \n",
       "\n",
       "[9905 rows x 9 columns]"
      ]
     },
     "execution_count": 11,
     "metadata": {},
     "output_type": "execute_result"
    }
   ],
   "source": [
    "index_values = tenis_df[(tenis_df['avg_minutes_set'] == 0)].index \n",
    "tenis2_df = tenis_df.drop(index_values)\n",
    "tenis2_df"
   ]
  },
  {
   "cell_type": "markdown",
   "metadata": {},
   "source": [
    "+ *I repeteixo el que he fet abans*"
   ]
  },
  {
   "cell_type": "code",
   "execution_count": 12,
   "metadata": {},
   "outputs": [
    {
     "data": {
      "text/plain": [
       "count    9823.000000\n",
       "mean       40.241698\n",
       "std         8.018269\n",
       "min         8.600000\n",
       "25%        35.000000\n",
       "50%        39.500000\n",
       "75%        44.800000\n",
       "max       133.000000\n",
       "Name: avg_minutes_set, dtype: float64"
      ]
     },
     "execution_count": 12,
     "metadata": {},
     "output_type": "execute_result"
    }
   ],
   "source": [
    "tenis2_df['avg_minutes_set'].describe()"
   ]
  },
  {
   "cell_type": "code",
   "execution_count": 13,
   "metadata": {},
   "outputs": [
    {
     "data": {
      "text/plain": [
       "40.241698055582745"
      ]
     },
     "execution_count": 13,
     "metadata": {},
     "output_type": "execute_result"
    }
   ],
   "source": [
    "tenis2_df['avg_minutes_set'].mean()"
   ]
  },
  {
   "cell_type": "code",
   "execution_count": 14,
   "metadata": {},
   "outputs": [
    {
     "data": {
      "text/plain": [
       "39.5"
      ]
     },
     "execution_count": 14,
     "metadata": {},
     "output_type": "execute_result"
    }
   ],
   "source": [
    "tenis2_df['avg_minutes_set'].median()"
   ]
  },
  {
   "cell_type": "code",
   "execution_count": 15,
   "metadata": {},
   "outputs": [
    {
     "data": {
      "text/plain": [
       "8.018269205912468"
      ]
     },
     "execution_count": 15,
     "metadata": {},
     "output_type": "execute_result"
    }
   ],
   "source": [
    "tenis2_df['avg_minutes_set'].std()"
   ]
  },
  {
   "cell_type": "code",
   "execution_count": 16,
   "metadata": {},
   "outputs": [
    {
     "data": {
      "text/plain": [
       "0    38.0\n",
       "dtype: float64"
      ]
     },
     "execution_count": 16,
     "metadata": {},
     "output_type": "execute_result"
    }
   ],
   "source": [
    "tenis2_df['avg_minutes_set'].mode()"
   ]
  },
  {
   "cell_type": "markdown",
   "metadata": {},
   "source": [
    "+ *I ho comprovo amb \"\".value_counts()\"*"
   ]
  },
  {
   "cell_type": "code",
   "execution_count": 17,
   "metadata": {},
   "outputs": [
    {
     "data": {
      "text/plain": [
       "38.0    165\n",
       "41.0    163\n",
       "37.0    160\n",
       "40.0    146\n",
       "39.3    145\n",
       "       ... \n",
       "20.7      1\n",
       "64.3      1\n",
       "25.4      1\n",
       "21.0      1\n",
       "26.2      1\n",
       "Name: avg_minutes_set, Length: 363, dtype: int64"
      ]
     },
     "execution_count": 17,
     "metadata": {},
     "output_type": "execute_result"
    }
   ],
   "source": [
    "tenis2_df['avg_minutes_set'].value_counts()"
   ]
  },
  {
   "cell_type": "markdown",
   "metadata": {},
   "source": [
    "### *Exercici 2*\n",
    "\n",
    "Continuant amb les dades de tema esportiu, selecciona dos atributs i calcula'n la seva correlació. "
   ]
  },
  {
   "cell_type": "markdown",
   "metadata": {},
   "source": [
    "+ *Selecciono 'avg_minutes_game' i \"avg_minutes_set\"*"
   ]
  },
  {
   "cell_type": "code",
   "execution_count": 18,
   "metadata": {},
   "outputs": [],
   "source": [
    "correlation = tenis2_df['avg_minutes_game'].corr(tenis2_df['avg_minutes_set'])"
   ]
  },
  {
   "cell_type": "code",
   "execution_count": 19,
   "metadata": {},
   "outputs": [
    {
     "name": "stdout",
     "output_type": "stream",
     "text": [
      "L'índex de correl.lació entre 'avg_minutes_game' i 'avg_minutes_set' és: 0.7727697334335708\n"
     ]
    }
   ],
   "source": [
    "print('L\\'índex de correl.lació entre \\'avg_minutes_game\\' i \\'avg_minutes_set\\' és: {}'.format(correlation))"
   ]
  },
  {
   "cell_type": "markdown",
   "metadata": {},
   "source": [
    "+ *Sembla raonable que existeix una correlació positiva i prou propera a 1*\n",
    "\n",
    "  *__És a dir, que quan més disputats ( = més temps duren) els jocs, més disputats i més temps duren els sets__*"
   ]
  },
  {
   "cell_type": "markdown",
   "metadata": {},
   "source": [
    "## NIVELL 2\n",
    "\n",
    "### *Exercici 3*\n",
    "\n",
    "Continuant amb les dades de tema esportiu, calcula la correlació de tots els atributs entre sí i representa'ls en una matriu amb diferents colors d'intensitat.\n"
   ]
  },
  {
   "cell_type": "code",
   "execution_count": 20,
   "metadata": {},
   "outputs": [
    {
     "data": {
      "text/plain": [
       "count    9905.000000\n",
       "mean     2009.358809\n",
       "std         5.771224\n",
       "min      2000.000000\n",
       "25%      2004.000000\n",
       "50%      2009.000000\n",
       "75%      2014.000000\n",
       "max      2019.000000\n",
       "Name: year, dtype: float64"
      ]
     },
     "execution_count": 20,
     "metadata": {},
     "output_type": "execute_result"
    }
   ],
   "source": [
    "tenis2_df['year'].describe()"
   ]
  },
  {
   "cell_type": "markdown",
   "metadata": {},
   "source": [
    "+ *Tinc una columna (\"year\") que sent numèrica tipus \"float64\" no m'aporta res a l'estudi de la correlació i me'n desfaig*"
   ]
  },
  {
   "cell_type": "code",
   "execution_count": 21,
   "metadata": {},
   "outputs": [
    {
     "data": {
      "text/html": [
       "<div>\n",
       "<style scoped>\n",
       "    .dataframe tbody tr th:only-of-type {\n",
       "        vertical-align: middle;\n",
       "    }\n",
       "\n",
       "    .dataframe tbody tr th {\n",
       "        vertical-align: top;\n",
       "    }\n",
       "\n",
       "    .dataframe thead th {\n",
       "        text-align: right;\n",
       "    }\n",
       "</style>\n",
       "<table border=\"1\" class=\"dataframe\">\n",
       "  <thead>\n",
       "    <tr style=\"text-align: right;\">\n",
       "      <th></th>\n",
       "      <th>match_id</th>\n",
       "      <th>round</th>\n",
       "      <th>date</th>\n",
       "      <th>avg_minutes_game</th>\n",
       "      <th>avg_seconds_point</th>\n",
       "      <th>avg_minutes_set</th>\n",
       "      <th>tournament</th>\n",
       "      <th>match_minutes</th>\n",
       "    </tr>\n",
       "  </thead>\n",
       "  <tbody>\n",
       "    <tr>\n",
       "      <th>0</th>\n",
       "      <td>m_2019_A_0</td>\n",
       "      <td>1st Round</td>\n",
       "      <td>2019-01-14</td>\n",
       "      <td>4.81</td>\n",
       "      <td>46.8</td>\n",
       "      <td>43.3</td>\n",
       "      <td>Australian Open</td>\n",
       "      <td>173.0</td>\n",
       "    </tr>\n",
       "    <tr>\n",
       "      <th>1</th>\n",
       "      <td>m_2019_A_1</td>\n",
       "      <td>1st Round</td>\n",
       "      <td>2019-01-14</td>\n",
       "      <td>3.95</td>\n",
       "      <td>35.7</td>\n",
       "      <td>40.5</td>\n",
       "      <td>Australian Open</td>\n",
       "      <td>162.0</td>\n",
       "    </tr>\n",
       "    <tr>\n",
       "      <th>2</th>\n",
       "      <td>m_2019_A_2</td>\n",
       "      <td>1st Round</td>\n",
       "      <td>2019-01-14</td>\n",
       "      <td>4.86</td>\n",
       "      <td>42.3</td>\n",
       "      <td>43.8</td>\n",
       "      <td>Australian Open</td>\n",
       "      <td>175.0</td>\n",
       "    </tr>\n",
       "    <tr>\n",
       "      <th>3</th>\n",
       "      <td>m_2019_A_3</td>\n",
       "      <td>1st Round</td>\n",
       "      <td>2019-01-14</td>\n",
       "      <td>4.43</td>\n",
       "      <td>43.3</td>\n",
       "      <td>41.0</td>\n",
       "      <td>Australian Open</td>\n",
       "      <td>164.0</td>\n",
       "    </tr>\n",
       "    <tr>\n",
       "      <th>4</th>\n",
       "      <td>m_2019_A_4</td>\n",
       "      <td>1st Round</td>\n",
       "      <td>2019-01-14</td>\n",
       "      <td>4.37</td>\n",
       "      <td>39.7</td>\n",
       "      <td>43.7</td>\n",
       "      <td>Australian Open</td>\n",
       "      <td>131.0</td>\n",
       "    </tr>\n",
       "    <tr>\n",
       "      <th>...</th>\n",
       "      <td>...</td>\n",
       "      <td>...</td>\n",
       "      <td>...</td>\n",
       "      <td>...</td>\n",
       "      <td>...</td>\n",
       "      <td>...</td>\n",
       "      <td>...</td>\n",
       "      <td>...</td>\n",
       "    </tr>\n",
       "    <tr>\n",
       "      <th>10155</th>\n",
       "      <td>m_2000_W_122</td>\n",
       "      <td>Quarterfinals</td>\n",
       "      <td>2000-06-26</td>\n",
       "      <td>3.95</td>\n",
       "      <td>37.3</td>\n",
       "      <td>41.5</td>\n",
       "      <td>Wimbledon</td>\n",
       "      <td>166.0</td>\n",
       "    </tr>\n",
       "    <tr>\n",
       "      <th>10156</th>\n",
       "      <td>m_2000_W_123</td>\n",
       "      <td>Quarterfinals</td>\n",
       "      <td>2000-06-26</td>\n",
       "      <td>4.26</td>\n",
       "      <td>39.0</td>\n",
       "      <td>48.3</td>\n",
       "      <td>Wimbledon</td>\n",
       "      <td>145.0</td>\n",
       "    </tr>\n",
       "    <tr>\n",
       "      <th>10157</th>\n",
       "      <td>m_2000_W_124</td>\n",
       "      <td>Semifinals</td>\n",
       "      <td>2000-06-26</td>\n",
       "      <td>3.74</td>\n",
       "      <td>37.2</td>\n",
       "      <td>39.6</td>\n",
       "      <td>Wimbledon</td>\n",
       "      <td>198.0</td>\n",
       "    </tr>\n",
       "    <tr>\n",
       "      <th>10158</th>\n",
       "      <td>m_2000_W_125</td>\n",
       "      <td>Semifinals</td>\n",
       "      <td>2000-06-26</td>\n",
       "      <td>3.30</td>\n",
       "      <td>34.7</td>\n",
       "      <td>33.0</td>\n",
       "      <td>Wimbledon</td>\n",
       "      <td>99.0</td>\n",
       "    </tr>\n",
       "    <tr>\n",
       "      <th>10159</th>\n",
       "      <td>m_2000_W_126</td>\n",
       "      <td>The Final</td>\n",
       "      <td>2000-06-26</td>\n",
       "      <td>4.24</td>\n",
       "      <td>35.7</td>\n",
       "      <td>44.5</td>\n",
       "      <td>Wimbledon</td>\n",
       "      <td>178.0</td>\n",
       "    </tr>\n",
       "  </tbody>\n",
       "</table>\n",
       "<p>9905 rows × 8 columns</p>\n",
       "</div>"
      ],
      "text/plain": [
       "           match_id          round        date  avg_minutes_game  \\\n",
       "0        m_2019_A_0      1st Round  2019-01-14              4.81   \n",
       "1        m_2019_A_1      1st Round  2019-01-14              3.95   \n",
       "2        m_2019_A_2      1st Round  2019-01-14              4.86   \n",
       "3        m_2019_A_3      1st Round  2019-01-14              4.43   \n",
       "4        m_2019_A_4      1st Round  2019-01-14              4.37   \n",
       "...             ...            ...         ...               ...   \n",
       "10155  m_2000_W_122  Quarterfinals  2000-06-26              3.95   \n",
       "10156  m_2000_W_123  Quarterfinals  2000-06-26              4.26   \n",
       "10157  m_2000_W_124     Semifinals  2000-06-26              3.74   \n",
       "10158  m_2000_W_125     Semifinals  2000-06-26              3.30   \n",
       "10159  m_2000_W_126      The Final  2000-06-26              4.24   \n",
       "\n",
       "       avg_seconds_point  avg_minutes_set       tournament  match_minutes  \n",
       "0                   46.8             43.3  Australian Open          173.0  \n",
       "1                   35.7             40.5  Australian Open          162.0  \n",
       "2                   42.3             43.8  Australian Open          175.0  \n",
       "3                   43.3             41.0  Australian Open          164.0  \n",
       "4                   39.7             43.7  Australian Open          131.0  \n",
       "...                  ...              ...              ...            ...  \n",
       "10155               37.3             41.5        Wimbledon          166.0  \n",
       "10156               39.0             48.3        Wimbledon          145.0  \n",
       "10157               37.2             39.6        Wimbledon          198.0  \n",
       "10158               34.7             33.0        Wimbledon           99.0  \n",
       "10159               35.7             44.5        Wimbledon          178.0  \n",
       "\n",
       "[9905 rows x 8 columns]"
      ]
     },
     "execution_count": 21,
     "metadata": {},
     "output_type": "execute_result"
    }
   ],
   "source": [
    "tenis2_df.drop(columns = ['year'], inplace = True)\n",
    "tenis2_df"
   ]
  },
  {
   "cell_type": "code",
   "execution_count": 22,
   "metadata": {},
   "outputs": [
    {
     "data": {
      "text/html": [
       "<div>\n",
       "<style scoped>\n",
       "    .dataframe tbody tr th:only-of-type {\n",
       "        vertical-align: middle;\n",
       "    }\n",
       "\n",
       "    .dataframe tbody tr th {\n",
       "        vertical-align: top;\n",
       "    }\n",
       "\n",
       "    .dataframe thead th {\n",
       "        text-align: right;\n",
       "    }\n",
       "</style>\n",
       "<table border=\"1\" class=\"dataframe\">\n",
       "  <thead>\n",
       "    <tr style=\"text-align: right;\">\n",
       "      <th></th>\n",
       "      <th>avg_minutes_game</th>\n",
       "      <th>avg_seconds_point</th>\n",
       "      <th>avg_minutes_set</th>\n",
       "      <th>match_minutes</th>\n",
       "    </tr>\n",
       "  </thead>\n",
       "  <tbody>\n",
       "    <tr>\n",
       "      <th>avg_minutes_game</th>\n",
       "      <td>1.000000</td>\n",
       "      <td>0.661246</td>\n",
       "      <td>0.772770</td>\n",
       "      <td>0.485545</td>\n",
       "    </tr>\n",
       "    <tr>\n",
       "      <th>avg_seconds_point</th>\n",
       "      <td>0.661246</td>\n",
       "      <td>1.000000</td>\n",
       "      <td>0.462204</td>\n",
       "      <td>0.300778</td>\n",
       "    </tr>\n",
       "    <tr>\n",
       "      <th>avg_minutes_set</th>\n",
       "      <td>0.772770</td>\n",
       "      <td>0.462204</td>\n",
       "      <td>1.000000</td>\n",
       "      <td>0.619264</td>\n",
       "    </tr>\n",
       "    <tr>\n",
       "      <th>match_minutes</th>\n",
       "      <td>0.485545</td>\n",
       "      <td>0.300778</td>\n",
       "      <td>0.619264</td>\n",
       "      <td>1.000000</td>\n",
       "    </tr>\n",
       "  </tbody>\n",
       "</table>\n",
       "</div>"
      ],
      "text/plain": [
       "                   avg_minutes_game  avg_seconds_point  avg_minutes_set  \\\n",
       "avg_minutes_game           1.000000           0.661246         0.772770   \n",
       "avg_seconds_point          0.661246           1.000000         0.462204   \n",
       "avg_minutes_set            0.772770           0.462204         1.000000   \n",
       "match_minutes              0.485545           0.300778         0.619264   \n",
       "\n",
       "                   match_minutes  \n",
       "avg_minutes_game        0.485545  \n",
       "avg_seconds_point       0.300778  \n",
       "avg_minutes_set         0.619264  \n",
       "match_minutes           1.000000  "
      ]
     },
     "execution_count": 22,
     "metadata": {},
     "output_type": "execute_result"
    }
   ],
   "source": [
    "corr_df = tenis2_df.corr(method = 'pearson')\n",
    "corr_df"
   ]
  },
  {
   "cell_type": "markdown",
   "metadata": {},
   "source": [
    "+ *I utilitzo seaborn per fer la visualització de la matriu de correlació obtinguda*"
   ]
  },
  {
   "cell_type": "code",
   "execution_count": 23,
   "metadata": {},
   "outputs": [
    {
     "data": {
      "image/png": "[encoded data removed]",
      "text/plain": [
       "<Figure size 576x432 with 2 Axes>"
      ]
     },
     "metadata": {
      "needs_background": "light"
     },
     "output_type": "display_data"
    }
   ],
   "source": [
    "plt.figure(figsize=(8, 6))\n",
    "sns.heatmap(corr_df, annot=True)\n",
    "plt.show()"
   ]
  },
  {
   "cell_type": "markdown",
   "metadata": {},
   "source": [
    "## NIVELL 3\n",
    "\n",
    "### *Exercici 4*\n",
    "\n",
    "Continuant amb les dades de tema esportiu, selecciona un atribut i calcula la mitjana geomètrica i la mitjana harmònica."
   ]
  },
  {
   "cell_type": "markdown",
   "metadata": {},
   "source": [
    "+ *Instal.lo statistics per poder importar \"geometric_mean\"*"
   ]
  },
  {
   "cell_type": "code",
   "execution_count": 24,
   "metadata": {},
   "outputs": [],
   "source": [
    "from statistics import geometric_mean"
   ]
  },
  {
   "cell_type": "code",
   "execution_count": 25,
   "metadata": {},
   "outputs": [
    {
     "name": "stdout",
     "output_type": "stream",
     "text": [
      "La geometric mean de la variable match_minutes és nan\n"
     ]
    }
   ],
   "source": [
    "geom_mean = geometric_mean(tenis2_df['match_minutes'])\n",
    "print('La geometric mean de la variable match_minutes és {}'.format(geom_mean))    "
   ]
  },
  {
   "cell_type": "markdown",
   "metadata": {},
   "source": [
    "+ *Vec que dona Nan.Potser és perquè hi ha null values a la columna 'match_minutes*\n",
    "\n"
   ]
  },
  {
   "cell_type": "code",
   "execution_count": 26,
   "metadata": {},
   "outputs": [
    {
     "data": {
      "text/plain": [
       "43"
      ]
     },
     "execution_count": 26,
     "metadata": {},
     "output_type": "execute_result"
    }
   ],
   "source": [
    "tenis2_df['match_minutes'].isnull().sum()"
   ]
  },
  {
   "cell_type": "markdown",
   "metadata": {},
   "source": [
    "+ *Efectivament hi ha 43 null values a la columna 'match minutes'*\n",
    "\n",
    "  *Per tant em desfaré de totes les observacions del data frame que continguin null values*"
   ]
  },
  {
   "cell_type": "code",
   "execution_count": 27,
   "metadata": {},
   "outputs": [
    {
     "data": {
      "text/html": [
       "<div>\n",
       "<style scoped>\n",
       "    .dataframe tbody tr th:only-of-type {\n",
       "        vertical-align: middle;\n",
       "    }\n",
       "\n",
       "    .dataframe tbody tr th {\n",
       "        vertical-align: top;\n",
       "    }\n",
       "\n",
       "    .dataframe thead th {\n",
       "        text-align: right;\n",
       "    }\n",
       "</style>\n",
       "<table border=\"1\" class=\"dataframe\">\n",
       "  <thead>\n",
       "    <tr style=\"text-align: right;\">\n",
       "      <th></th>\n",
       "      <th>match_id</th>\n",
       "      <th>round</th>\n",
       "      <th>date</th>\n",
       "      <th>avg_minutes_game</th>\n",
       "      <th>avg_seconds_point</th>\n",
       "      <th>avg_minutes_set</th>\n",
       "      <th>tournament</th>\n",
       "      <th>match_minutes</th>\n",
       "    </tr>\n",
       "  </thead>\n",
       "  <tbody>\n",
       "    <tr>\n",
       "      <th>0</th>\n",
       "      <td>m_2019_A_0</td>\n",
       "      <td>1st Round</td>\n",
       "      <td>2019-01-14</td>\n",
       "      <td>4.81</td>\n",
       "      <td>46.8</td>\n",
       "      <td>43.3</td>\n",
       "      <td>Australian Open</td>\n",
       "      <td>173.0</td>\n",
       "    </tr>\n",
       "    <tr>\n",
       "      <th>1</th>\n",
       "      <td>m_2019_A_1</td>\n",
       "      <td>1st Round</td>\n",
       "      <td>2019-01-14</td>\n",
       "      <td>3.95</td>\n",
       "      <td>35.7</td>\n",
       "      <td>40.5</td>\n",
       "      <td>Australian Open</td>\n",
       "      <td>162.0</td>\n",
       "    </tr>\n",
       "    <tr>\n",
       "      <th>2</th>\n",
       "      <td>m_2019_A_2</td>\n",
       "      <td>1st Round</td>\n",
       "      <td>2019-01-14</td>\n",
       "      <td>4.86</td>\n",
       "      <td>42.3</td>\n",
       "      <td>43.8</td>\n",
       "      <td>Australian Open</td>\n",
       "      <td>175.0</td>\n",
       "    </tr>\n",
       "    <tr>\n",
       "      <th>3</th>\n",
       "      <td>m_2019_A_3</td>\n",
       "      <td>1st Round</td>\n",
       "      <td>2019-01-14</td>\n",
       "      <td>4.43</td>\n",
       "      <td>43.3</td>\n",
       "      <td>41.0</td>\n",
       "      <td>Australian Open</td>\n",
       "      <td>164.0</td>\n",
       "    </tr>\n",
       "    <tr>\n",
       "      <th>4</th>\n",
       "      <td>m_2019_A_4</td>\n",
       "      <td>1st Round</td>\n",
       "      <td>2019-01-14</td>\n",
       "      <td>4.37</td>\n",
       "      <td>39.7</td>\n",
       "      <td>43.7</td>\n",
       "      <td>Australian Open</td>\n",
       "      <td>131.0</td>\n",
       "    </tr>\n",
       "    <tr>\n",
       "      <th>...</th>\n",
       "      <td>...</td>\n",
       "      <td>...</td>\n",
       "      <td>...</td>\n",
       "      <td>...</td>\n",
       "      <td>...</td>\n",
       "      <td>...</td>\n",
       "      <td>...</td>\n",
       "      <td>...</td>\n",
       "    </tr>\n",
       "    <tr>\n",
       "      <th>10155</th>\n",
       "      <td>m_2000_W_122</td>\n",
       "      <td>Quarterfinals</td>\n",
       "      <td>2000-06-26</td>\n",
       "      <td>3.95</td>\n",
       "      <td>37.3</td>\n",
       "      <td>41.5</td>\n",
       "      <td>Wimbledon</td>\n",
       "      <td>166.0</td>\n",
       "    </tr>\n",
       "    <tr>\n",
       "      <th>10156</th>\n",
       "      <td>m_2000_W_123</td>\n",
       "      <td>Quarterfinals</td>\n",
       "      <td>2000-06-26</td>\n",
       "      <td>4.26</td>\n",
       "      <td>39.0</td>\n",
       "      <td>48.3</td>\n",
       "      <td>Wimbledon</td>\n",
       "      <td>145.0</td>\n",
       "    </tr>\n",
       "    <tr>\n",
       "      <th>10157</th>\n",
       "      <td>m_2000_W_124</td>\n",
       "      <td>Semifinals</td>\n",
       "      <td>2000-06-26</td>\n",
       "      <td>3.74</td>\n",
       "      <td>37.2</td>\n",
       "      <td>39.6</td>\n",
       "      <td>Wimbledon</td>\n",
       "      <td>198.0</td>\n",
       "    </tr>\n",
       "    <tr>\n",
       "      <th>10158</th>\n",
       "      <td>m_2000_W_125</td>\n",
       "      <td>Semifinals</td>\n",
       "      <td>2000-06-26</td>\n",
       "      <td>3.30</td>\n",
       "      <td>34.7</td>\n",
       "      <td>33.0</td>\n",
       "      <td>Wimbledon</td>\n",
       "      <td>99.0</td>\n",
       "    </tr>\n",
       "    <tr>\n",
       "      <th>10159</th>\n",
       "      <td>m_2000_W_126</td>\n",
       "      <td>The Final</td>\n",
       "      <td>2000-06-26</td>\n",
       "      <td>4.24</td>\n",
       "      <td>35.7</td>\n",
       "      <td>44.5</td>\n",
       "      <td>Wimbledon</td>\n",
       "      <td>178.0</td>\n",
       "    </tr>\n",
       "  </tbody>\n",
       "</table>\n",
       "<p>9823 rows × 8 columns</p>\n",
       "</div>"
      ],
      "text/plain": [
       "           match_id          round        date  avg_minutes_game  \\\n",
       "0        m_2019_A_0      1st Round  2019-01-14              4.81   \n",
       "1        m_2019_A_1      1st Round  2019-01-14              3.95   \n",
       "2        m_2019_A_2      1st Round  2019-01-14              4.86   \n",
       "3        m_2019_A_3      1st Round  2019-01-14              4.43   \n",
       "4        m_2019_A_4      1st Round  2019-01-14              4.37   \n",
       "...             ...            ...         ...               ...   \n",
       "10155  m_2000_W_122  Quarterfinals  2000-06-26              3.95   \n",
       "10156  m_2000_W_123  Quarterfinals  2000-06-26              4.26   \n",
       "10157  m_2000_W_124     Semifinals  2000-06-26              3.74   \n",
       "10158  m_2000_W_125     Semifinals  2000-06-26              3.30   \n",
       "10159  m_2000_W_126      The Final  2000-06-26              4.24   \n",
       "\n",
       "       avg_seconds_point  avg_minutes_set       tournament  match_minutes  \n",
       "0                   46.8             43.3  Australian Open          173.0  \n",
       "1                   35.7             40.5  Australian Open          162.0  \n",
       "2                   42.3             43.8  Australian Open          175.0  \n",
       "3                   43.3             41.0  Australian Open          164.0  \n",
       "4                   39.7             43.7  Australian Open          131.0  \n",
       "...                  ...              ...              ...            ...  \n",
       "10155               37.3             41.5        Wimbledon          166.0  \n",
       "10156               39.0             48.3        Wimbledon          145.0  \n",
       "10157               37.2             39.6        Wimbledon          198.0  \n",
       "10158               34.7             33.0        Wimbledon           99.0  \n",
       "10159               35.7             44.5        Wimbledon          178.0  \n",
       "\n",
       "[9823 rows x 8 columns]"
      ]
     },
     "execution_count": 27,
     "metadata": {},
     "output_type": "execute_result"
    }
   ],
   "source": [
    "tenis2_df = tenis2_df.dropna()\n",
    "tenis2_df"
   ]
  },
  {
   "cell_type": "markdown",
   "metadata": {},
   "source": [
    "+ *I ho comprovo*"
   ]
  },
  {
   "cell_type": "code",
   "execution_count": 28,
   "metadata": {},
   "outputs": [
    {
     "data": {
      "text/plain": [
       "0"
      ]
     },
     "execution_count": 28,
     "metadata": {},
     "output_type": "execute_result"
    }
   ],
   "source": [
    "tenis2_df['match_minutes'].isnull().sum()"
   ]
  },
  {
   "cell_type": "code",
   "execution_count": 29,
   "metadata": {},
   "outputs": [
    {
     "name": "stdout",
     "output_type": "stream",
     "text": [
      "La geometric mean de la variable match_minutes és 138.97519942142176\n"
     ]
    }
   ],
   "source": [
    "geom_mean = geometric_mean(tenis2_df['match_minutes'])\n",
    "print('La geometric mean de la variable match_minutes és {}'.format(geom_mean)) "
   ]
  },
  {
   "cell_type": "markdown",
   "metadata": {},
   "source": [
    "+ *Alternativa amb mòdul scipy*"
   ]
  },
  {
   "cell_type": "code",
   "execution_count": 32,
   "metadata": {},
   "outputs": [],
   "source": [
    "from scipy import stats"
   ]
  },
  {
   "cell_type": "code",
   "execution_count": 33,
   "metadata": {},
   "outputs": [
    {
     "data": {
      "text/plain": [
       "0        173.0\n",
       "1        162.0\n",
       "2        175.0\n",
       "3        164.0\n",
       "4        131.0\n",
       "         ...  \n",
       "10155    166.0\n",
       "10156    145.0\n",
       "10157    198.0\n",
       "10158     99.0\n",
       "10159    178.0\n",
       "Name: match_minutes, Length: 9823, dtype: float64"
      ]
     },
     "execution_count": 33,
     "metadata": {},
     "output_type": "execute_result"
    }
   ],
   "source": [
    "x = tenis2_df['match_minutes']\n",
    "x"
   ]
  },
  {
   "cell_type": "code",
   "execution_count": 34,
   "metadata": {},
   "outputs": [
    {
     "name": "stdout",
     "output_type": "stream",
     "text": [
      "138.97519942142176\n"
     ]
    }
   ],
   "source": [
    "print(stats.gmean(x))"
   ]
  },
  {
   "cell_type": "markdown",
   "metadata": {},
   "source": [
    "+ *Ara trobem la mitjana harmònica*"
   ]
  },
  {
   "cell_type": "markdown",
   "metadata": {},
   "source": [
    "+ *Des de statistics importo \"harmonic_mean\"*"
   ]
  },
  {
   "cell_type": "code",
   "execution_count": 35,
   "metadata": {},
   "outputs": [],
   "source": [
    "from statistics import harmonic_mean"
   ]
  },
  {
   "cell_type": "code",
   "execution_count": 37,
   "metadata": {},
   "outputs": [
    {
     "name": "stdout",
     "output_type": "stream",
     "text": [
      "La harmonic mean de la variable match_minutes és 131.17486659410784\n"
     ]
    }
   ],
   "source": [
    "harmo_mean = harmonic_mean(tenis2_df['match_minutes'])\n",
    "print('La harmonic mean de la variable match_minutes és {}'.format(harmo_mean)) "
   ]
  },
  {
   "cell_type": "code",
   "execution_count": null,
   "metadata": {},
   "outputs": [],
   "source": []
  }
 ],
 "metadata": {
  "kernelspec": {
   "display_name": "Python 3",
   "language": "python",
   "name": "python3"
  },
  "language_info": {
   "codemirror_mode": {
    "name": "ipython",
    "version": 3
   },
   "file_extension": ".py",
   "mimetype": "text/x-python",
   "name": "python",
   "nbconvert_exporter": "python",
   "pygments_lexer": "ipython3",
   "version": "3.8.5"
  }
 },
 "nbformat": 4,
 "nbformat_minor": 4
}
